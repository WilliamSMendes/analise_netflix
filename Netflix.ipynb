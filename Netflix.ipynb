{
 "cells": [
  {
   "cell_type": "code",
   "execution_count": 1,
   "id": "strong-onion",
   "metadata": {},
   "outputs": [],
   "source": [
    "import pandas as pd\n",
    "import matplotlib\n",
    "import matplotlib.pyplot as plt"
   ]
  },
  {
   "cell_type": "markdown",
   "id": "insured-bachelor",
   "metadata": {},
   "source": [
    "## Como mencionado no site, o arquivo que vamos analisar é o \"ViewingActivity.csv\"\n",
    "\n",
    "fonte: https://www.dataquest.io/blog/python-tutorial-analyze-personal-netflix-data/"
   ]
  },
  {
   "cell_type": "code",
   "execution_count": 2,
   "id": "labeled-pasta",
   "metadata": {},
   "outputs": [
    {
     "data": {
      "text/html": [
       "<div>\n",
       "<style scoped>\n",
       "    .dataframe tbody tr th:only-of-type {\n",
       "        vertical-align: middle;\n",
       "    }\n",
       "\n",
       "    .dataframe tbody tr th {\n",
       "        vertical-align: top;\n",
       "    }\n",
       "\n",
       "    .dataframe thead th {\n",
       "        text-align: right;\n",
       "    }\n",
       "</style>\n",
       "<table border=\"1\" class=\"dataframe\">\n",
       "  <thead>\n",
       "    <tr style=\"text-align: right;\">\n",
       "      <th></th>\n",
       "      <th>Profile Name</th>\n",
       "      <th>Start Time</th>\n",
       "      <th>Duration</th>\n",
       "      <th>Attributes</th>\n",
       "      <th>Title</th>\n",
       "      <th>Supplemental Video Type</th>\n",
       "      <th>Device Type</th>\n",
       "      <th>Bookmark</th>\n",
       "      <th>Latest Bookmark</th>\n",
       "      <th>Country</th>\n",
       "    </tr>\n",
       "  </thead>\n",
       "  <tbody>\n",
       "    <tr>\n",
       "      <th>0</th>\n",
       "      <td>Ademilson</td>\n",
       "      <td>2020-11-24 00:15:41</td>\n",
       "      <td>00:03:13</td>\n",
       "      <td>Autoplayed: user action: Unspecified;</td>\n",
       "      <td>Operação Ecstasy: Temporada 2: Empacado (Episó...</td>\n",
       "      <td>NaN</td>\n",
       "      <td>Samsung 2016 Jazz-L UHD TV Smart TV</td>\n",
       "      <td>00:03:41</td>\n",
       "      <td>00:03:41</td>\n",
       "      <td>BR (Brazil)</td>\n",
       "    </tr>\n",
       "    <tr>\n",
       "      <th>1</th>\n",
       "      <td>Ademilson</td>\n",
       "      <td>2020-11-23 23:04:25</td>\n",
       "      <td>00:47:00</td>\n",
       "      <td>Autoplayed: user action: Unspecified;</td>\n",
       "      <td>Operação Ecstasy: Temporada 2: Enricochetear (...</td>\n",
       "      <td>NaN</td>\n",
       "      <td>Samsung 2016 Jazz-L UHD TV Smart TV</td>\n",
       "      <td>00:47:51</td>\n",
       "      <td>00:47:51</td>\n",
       "      <td>BR (Brazil)</td>\n",
       "    </tr>\n",
       "    <tr>\n",
       "      <th>2</th>\n",
       "      <td>Ademilson</td>\n",
       "      <td>2020-11-23 22:15:45</td>\n",
       "      <td>00:47:35</td>\n",
       "      <td>Autoplayed: user action: Unspecified;</td>\n",
       "      <td>Operação Ecstasy: Temporada 2: Victor (Episódi...</td>\n",
       "      <td>NaN</td>\n",
       "      <td>Samsung 2016 Jazz-L UHD TV Smart TV</td>\n",
       "      <td>00:47:51</td>\n",
       "      <td>00:47:51</td>\n",
       "      <td>BR (Brazil)</td>\n",
       "    </tr>\n",
       "    <tr>\n",
       "      <th>3</th>\n",
       "      <td>Ademilson</td>\n",
       "      <td>2020-11-23 21:13:27</td>\n",
       "      <td>00:48:28</td>\n",
       "      <td>Autoplayed: user action: Unspecified;</td>\n",
       "      <td>Operação Ecstasy: Temporada 2: Revolución (Epi...</td>\n",
       "      <td>NaN</td>\n",
       "      <td>Samsung 2016 Jazz-L UHD TV Smart TV</td>\n",
       "      <td>00:48:33</td>\n",
       "      <td>00:48:33</td>\n",
       "      <td>BR (Brazil)</td>\n",
       "    </tr>\n",
       "    <tr>\n",
       "      <th>4</th>\n",
       "      <td>Ademilson</td>\n",
       "      <td>2020-11-23 20:58:09</td>\n",
       "      <td>00:15:12</td>\n",
       "      <td>NaN</td>\n",
       "      <td>Operação Ecstasy: Temporada 2: Cavalo de Troia...</td>\n",
       "      <td>NaN</td>\n",
       "      <td>Samsung 2016 Jazz-L UHD TV Smart TV</td>\n",
       "      <td>00:44:50</td>\n",
       "      <td>00:44:50</td>\n",
       "      <td>BR (Brazil)</td>\n",
       "    </tr>\n",
       "  </tbody>\n",
       "</table>\n",
       "</div>"
      ],
      "text/plain": [
       "  Profile Name           Start Time  Duration  \\\n",
       "0    Ademilson  2020-11-24 00:15:41  00:03:13   \n",
       "1    Ademilson  2020-11-23 23:04:25  00:47:00   \n",
       "2    Ademilson  2020-11-23 22:15:45  00:47:35   \n",
       "3    Ademilson  2020-11-23 21:13:27  00:48:28   \n",
       "4    Ademilson  2020-11-23 20:58:09  00:15:12   \n",
       "\n",
       "                               Attributes  \\\n",
       "0  Autoplayed: user action: Unspecified;    \n",
       "1  Autoplayed: user action: Unspecified;    \n",
       "2  Autoplayed: user action: Unspecified;    \n",
       "3  Autoplayed: user action: Unspecified;    \n",
       "4                                     NaN   \n",
       "\n",
       "                                               Title Supplemental Video Type  \\\n",
       "0  Operação Ecstasy: Temporada 2: Empacado (Episó...                     NaN   \n",
       "1  Operação Ecstasy: Temporada 2: Enricochetear (...                     NaN   \n",
       "2  Operação Ecstasy: Temporada 2: Victor (Episódi...                     NaN   \n",
       "3  Operação Ecstasy: Temporada 2: Revolución (Epi...                     NaN   \n",
       "4  Operação Ecstasy: Temporada 2: Cavalo de Troia...                     NaN   \n",
       "\n",
       "                           Device Type  Bookmark Latest Bookmark      Country  \n",
       "0  Samsung 2016 Jazz-L UHD TV Smart TV  00:03:41        00:03:41  BR (Brazil)  \n",
       "1  Samsung 2016 Jazz-L UHD TV Smart TV  00:47:51        00:47:51  BR (Brazil)  \n",
       "2  Samsung 2016 Jazz-L UHD TV Smart TV  00:47:51        00:47:51  BR (Brazil)  \n",
       "3  Samsung 2016 Jazz-L UHD TV Smart TV  00:48:33        00:48:33  BR (Brazil)  \n",
       "4  Samsung 2016 Jazz-L UHD TV Smart TV  00:44:50        00:44:50  BR (Brazil)  "
      ]
     },
     "execution_count": 2,
     "metadata": {},
     "output_type": "execute_result"
    }
   ],
   "source": [
    "dados = pd.read_csv('ViewingActivity.csv')\n",
    "dados.head()"
   ]
  },
  {
   "cell_type": "code",
   "execution_count": 3,
   "id": "close-drain",
   "metadata": {},
   "outputs": [
    {
     "data": {
      "text/plain": [
       "(4273, 10)"
      ]
     },
     "execution_count": 3,
     "metadata": {},
     "output_type": "execute_result"
    }
   ],
   "source": [
    "dados.shape"
   ]
  },
  {
   "cell_type": "code",
   "execution_count": 4,
   "id": "broad-dating",
   "metadata": {},
   "outputs": [
    {
     "data": {
      "text/plain": [
       "array(['Ademilson', 'Maevi', 'William', 'Letícia', 'Beatriz'],\n",
       "      dtype=object)"
      ]
     },
     "execution_count": 4,
     "metadata": {},
     "output_type": "execute_result"
    }
   ],
   "source": [
    "dados['Profile Name'].unique()"
   ]
  },
  {
   "cell_type": "markdown",
   "id": "pacific-increase",
   "metadata": {},
   "source": [
    "## Como toda a família usa a conta da Netflix, vou filtrar pelo meu perfil:"
   ]
  },
  {
   "cell_type": "code",
   "execution_count": 5,
   "id": "pressed-interval",
   "metadata": {},
   "outputs": [],
   "source": [
    "will = dados[dados['Profile Name'] == 'William']"
   ]
  },
  {
   "cell_type": "code",
   "execution_count": 6,
   "id": "finite-warrior",
   "metadata": {},
   "outputs": [],
   "source": [
    "# Removendo as colunas indesejadas:\n",
    "will = will.drop(['Profile Name','Attributes', 'Supplemental Video Type', 'Device Type', 'Bookmark', 'Latest Bookmark', 'Country'], axis=1)"
   ]
  },
  {
   "cell_type": "code",
   "execution_count": 7,
   "id": "dirty-cheat",
   "metadata": {},
   "outputs": [
    {
     "data": {
      "text/plain": [
       "Start Time    object\n",
       "Duration      object\n",
       "Title         object\n",
       "dtype: object"
      ]
     },
     "execution_count": 7,
     "metadata": {},
     "output_type": "execute_result"
    }
   ],
   "source": [
    "will.dtypes"
   ]
  },
  {
   "cell_type": "markdown",
   "id": "narrative-principle",
   "metadata": {},
   "source": [
    "## Para análise dos dados, vamos precisar transformar os objetos da coluna StartTime e Duration em DateTime e DeltaTime rescpectivamente para o pandas interpretar como  data e hora:"
   ]
  },
  {
   "cell_type": "code",
   "execution_count": 8,
   "id": "extended-beginning",
   "metadata": {},
   "outputs": [],
   "source": [
    "will['Start Time'] = pd.to_datetime(will['Start Time'], utc=True)"
   ]
  },
  {
   "cell_type": "code",
   "execution_count": 9,
   "id": "intimate-tourist",
   "metadata": {},
   "outputs": [
    {
     "data": {
      "text/plain": [
       "Start Time    datetime64[ns, UTC]\n",
       "Duration                   object\n",
       "Title                      object\n",
       "dtype: object"
      ]
     },
     "execution_count": 9,
     "metadata": {},
     "output_type": "execute_result"
    }
   ],
   "source": [
    "will.dtypes"
   ]
  },
  {
   "cell_type": "code",
   "execution_count": 10,
   "id": "previous-forth",
   "metadata": {},
   "outputs": [
    {
     "data": {
      "text/html": [
       "<div>\n",
       "<style scoped>\n",
       "    .dataframe tbody tr th:only-of-type {\n",
       "        vertical-align: middle;\n",
       "    }\n",
       "\n",
       "    .dataframe tbody tr th {\n",
       "        vertical-align: top;\n",
       "    }\n",
       "\n",
       "    .dataframe thead th {\n",
       "        text-align: right;\n",
       "    }\n",
       "</style>\n",
       "<table border=\"1\" class=\"dataframe\">\n",
       "  <thead>\n",
       "    <tr style=\"text-align: right;\">\n",
       "      <th></th>\n",
       "      <th>Start Time</th>\n",
       "      <th>Duration</th>\n",
       "      <th>Title</th>\n",
       "    </tr>\n",
       "  </thead>\n",
       "  <tbody>\n",
       "    <tr>\n",
       "      <th>0</th>\n",
       "      <td>2020-11-22 16:27:35-03:00</td>\n",
       "      <td>00:02:58</td>\n",
       "      <td>Os indomáveis</td>\n",
       "    </tr>\n",
       "    <tr>\n",
       "      <th>1</th>\n",
       "      <td>2020-11-22 13:29:05-03:00</td>\n",
       "      <td>00:00:28</td>\n",
       "      <td>Clipe 2: O Gambito da Rainha</td>\n",
       "    </tr>\n",
       "    <tr>\n",
       "      <th>2</th>\n",
       "      <td>2020-11-22 13:28:55-03:00</td>\n",
       "      <td>00:00:04</td>\n",
       "      <td>Castlevania (Trailer)</td>\n",
       "    </tr>\n",
       "    <tr>\n",
       "      <th>3</th>\n",
       "      <td>2020-11-20 21:14:36-03:00</td>\n",
       "      <td>01:32:51</td>\n",
       "      <td>Os indomáveis</td>\n",
       "    </tr>\n",
       "    <tr>\n",
       "      <th>4</th>\n",
       "      <td>2020-11-20 21:07:50-03:00</td>\n",
       "      <td>00:00:14</td>\n",
       "      <td>Trailer: O Que Ficou Para Trás</td>\n",
       "    </tr>\n",
       "  </tbody>\n",
       "</table>\n",
       "</div>"
      ],
      "text/plain": [
       "                 Start Time  Duration                           Title\n",
       "0 2020-11-22 16:27:35-03:00  00:02:58                   Os indomáveis\n",
       "1 2020-11-22 13:29:05-03:00  00:00:28    Clipe 2: O Gambito da Rainha\n",
       "2 2020-11-22 13:28:55-03:00  00:00:04           Castlevania (Trailer)\n",
       "3 2020-11-20 21:14:36-03:00  01:32:51                   Os indomáveis\n",
       "4 2020-11-20 21:07:50-03:00  00:00:14  Trailer: O Que Ficou Para Trás"
      ]
     },
     "execution_count": 10,
     "metadata": {},
     "output_type": "execute_result"
    }
   ],
   "source": [
    "# Mudabndo a coluna 'Start Time' para o indice do dataframe\n",
    "will = will.set_index('Start Time')\n",
    "\n",
    "# Convertendo o fuso horário para o do Brasil\n",
    "will.index = will.index.tz_convert('America/Sao_Paulo')\n",
    "\n",
    "# Revertendo de indice para coluna novamente\n",
    "will = will.reset_index()\n",
    "\n",
    "will.head()"
   ]
  },
  {
   "cell_type": "code",
   "execution_count": 11,
   "id": "lined-island",
   "metadata": {},
   "outputs": [
    {
     "data": {
      "text/plain": [
       "Start Time    datetime64[ns, America/Sao_Paulo]\n",
       "Duration                        timedelta64[ns]\n",
       "Title                                    object\n",
       "dtype: object"
      ]
     },
     "execution_count": 11,
     "metadata": {},
     "output_type": "execute_result"
    }
   ],
   "source": [
    "# Transformando a coluna de duração em timedelta\n",
    "will['Duration'] = pd.to_timedelta(will['Duration'])\n",
    "\n",
    "will.dtypes"
   ]
  },
  {
   "cell_type": "code",
   "execution_count": 12,
   "id": "affected-uruguay",
   "metadata": {},
   "outputs": [
    {
     "data": {
      "text/html": [
       "<div>\n",
       "<style scoped>\n",
       "    .dataframe tbody tr th:only-of-type {\n",
       "        vertical-align: middle;\n",
       "    }\n",
       "\n",
       "    .dataframe tbody tr th {\n",
       "        vertical-align: top;\n",
       "    }\n",
       "\n",
       "    .dataframe thead th {\n",
       "        text-align: right;\n",
       "    }\n",
       "</style>\n",
       "<table border=\"1\" class=\"dataframe\">\n",
       "  <thead>\n",
       "    <tr style=\"text-align: right;\">\n",
       "      <th></th>\n",
       "      <th>Start Time</th>\n",
       "      <th>Duration</th>\n",
       "      <th>Title</th>\n",
       "    </tr>\n",
       "  </thead>\n",
       "  <tbody>\n",
       "    <tr>\n",
       "      <th>0</th>\n",
       "      <td>2020-11-22 16:27:35-03:00</td>\n",
       "      <td>0 days 00:02:58</td>\n",
       "      <td>Os indomáveis</td>\n",
       "    </tr>\n",
       "    <tr>\n",
       "      <th>1</th>\n",
       "      <td>2020-11-22 13:29:05-03:00</td>\n",
       "      <td>0 days 00:00:28</td>\n",
       "      <td>Clipe 2: O Gambito da Rainha</td>\n",
       "    </tr>\n",
       "    <tr>\n",
       "      <th>2</th>\n",
       "      <td>2020-11-22 13:28:55-03:00</td>\n",
       "      <td>0 days 00:00:04</td>\n",
       "      <td>Castlevania (Trailer)</td>\n",
       "    </tr>\n",
       "    <tr>\n",
       "      <th>3</th>\n",
       "      <td>2020-11-20 21:14:36-03:00</td>\n",
       "      <td>0 days 01:32:51</td>\n",
       "      <td>Os indomáveis</td>\n",
       "    </tr>\n",
       "    <tr>\n",
       "      <th>4</th>\n",
       "      <td>2020-11-20 21:07:50-03:00</td>\n",
       "      <td>0 days 00:00:14</td>\n",
       "      <td>Trailer: O Que Ficou Para Trás</td>\n",
       "    </tr>\n",
       "  </tbody>\n",
       "</table>\n",
       "</div>"
      ],
      "text/plain": [
       "                 Start Time        Duration                           Title\n",
       "0 2020-11-22 16:27:35-03:00 0 days 00:02:58                   Os indomáveis\n",
       "1 2020-11-22 13:29:05-03:00 0 days 00:00:28    Clipe 2: O Gambito da Rainha\n",
       "2 2020-11-22 13:28:55-03:00 0 days 00:00:04           Castlevania (Trailer)\n",
       "3 2020-11-20 21:14:36-03:00 0 days 01:32:51                   Os indomáveis\n",
       "4 2020-11-20 21:07:50-03:00 0 days 00:00:14  Trailer: O Que Ficou Para Trás"
      ]
     },
     "execution_count": 12,
     "metadata": {},
     "output_type": "execute_result"
    }
   ],
   "source": [
    "will.head()"
   ]
  },
  {
   "cell_type": "markdown",
   "id": "photographic-sunday",
   "metadata": {},
   "source": [
    "## Vamos refinar a base de dados, retirando os trailers:"
   ]
  },
  {
   "cell_type": "code",
   "execution_count": 13,
   "id": "answering-arcade",
   "metadata": {},
   "outputs": [
    {
     "data": {
      "text/plain": [
       "(207, 3)"
      ]
     },
     "execution_count": 13,
     "metadata": {},
     "output_type": "execute_result"
    }
   ],
   "source": [
    "# Retirando os possíveis trailers assistidos\n",
    "will = will[(will['Duration'] > '0 days 00:03:00')]\n",
    "will.shape"
   ]
  },
  {
   "cell_type": "markdown",
   "id": "numerous-absence",
   "metadata": {},
   "source": [
    "# Pronto, agora vamos começar analisando os filmes"
   ]
  },
  {
   "cell_type": "code",
   "execution_count": 14,
   "id": "constant-presence",
   "metadata": {},
   "outputs": [
    {
     "data": {
      "text/plain": [
       "Timedelta('0 days 02:43:01')"
      ]
     },
     "execution_count": 14,
     "metadata": {},
     "output_type": "execute_result"
    }
   ],
   "source": [
    "# Checando o filme de maior duração\n",
    "will['Duration'].max()"
   ]
  },
  {
   "cell_type": "code",
   "execution_count": 15,
   "id": "collected-inspection",
   "metadata": {},
   "outputs": [],
   "source": [
    "# Ordenando os filmes assistidos com maior duração\n",
    "filmes = will.sort_values(['Duration'], ascending=False)"
   ]
  },
  {
   "cell_type": "markdown",
   "id": "prerequisite-broadcasting",
   "metadata": {},
   "source": [
    "# Quero um top 10 filmes mais assistidos"
   ]
  },
  {
   "cell_type": "code",
   "execution_count": 16,
   "id": "magnetic-jewelry",
   "metadata": {},
   "outputs": [
    {
     "data": {
      "text/html": [
       "<div>\n",
       "<style scoped>\n",
       "    .dataframe tbody tr th:only-of-type {\n",
       "        vertical-align: middle;\n",
       "    }\n",
       "\n",
       "    .dataframe tbody tr th {\n",
       "        vertical-align: top;\n",
       "    }\n",
       "\n",
       "    .dataframe thead th {\n",
       "        text-align: right;\n",
       "    }\n",
       "</style>\n",
       "<table border=\"1\" class=\"dataframe\">\n",
       "  <thead>\n",
       "    <tr style=\"text-align: right;\">\n",
       "      <th></th>\n",
       "      <th>Start Time</th>\n",
       "      <th>Duration</th>\n",
       "      <th>Title</th>\n",
       "    </tr>\n",
       "  </thead>\n",
       "  <tbody>\n",
       "    <tr>\n",
       "      <th>270</th>\n",
       "      <td>2020-06-01 22:10:09-03:00</td>\n",
       "      <td>0 days 02:43:01</td>\n",
       "      <td>O Resgate do Soldado Ryan</td>\n",
       "    </tr>\n",
       "    <tr>\n",
       "      <th>297</th>\n",
       "      <td>2020-05-07 19:40:29-03:00</td>\n",
       "      <td>0 days 02:33:17</td>\n",
       "      <td>Millennium: Os Homens que Não Amavam as Mulheres</td>\n",
       "    </tr>\n",
       "    <tr>\n",
       "      <th>61</th>\n",
       "      <td>2020-10-18 17:03:21-03:00</td>\n",
       "      <td>0 days 02:25:26</td>\n",
       "      <td>Cassino</td>\n",
       "    </tr>\n",
       "    <tr>\n",
       "      <th>315</th>\n",
       "      <td>2020-05-03 16:20:00-03:00</td>\n",
       "      <td>0 days 02:24:52</td>\n",
       "      <td>Garota Exemplar</td>\n",
       "    </tr>\n",
       "    <tr>\n",
       "      <th>96</th>\n",
       "      <td>2020-09-21 22:16:25-03:00</td>\n",
       "      <td>0 days 02:13:24</td>\n",
       "      <td>O Diabo de Cada Dia</td>\n",
       "    </tr>\n",
       "    <tr>\n",
       "      <th>273</th>\n",
       "      <td>2020-05-30 23:47:24-03:00</td>\n",
       "      <td>0 days 02:10:47</td>\n",
       "      <td>Até o Último Homem</td>\n",
       "    </tr>\n",
       "    <tr>\n",
       "      <th>10</th>\n",
       "      <td>2020-11-15 22:58:21-03:00</td>\n",
       "      <td>0 days 01:51:09</td>\n",
       "      <td>Kick-Ass – Quebrando tudo</td>\n",
       "    </tr>\n",
       "    <tr>\n",
       "      <th>90</th>\n",
       "      <td>2020-10-04 22:08:35-03:00</td>\n",
       "      <td>0 days 01:49:25</td>\n",
       "      <td>Blade Runner 2049</td>\n",
       "    </tr>\n",
       "    <tr>\n",
       "      <th>239</th>\n",
       "      <td>2020-06-18 23:06:32-03:00</td>\n",
       "      <td>0 days 01:48:17</td>\n",
       "      <td>The Ballad of Buster Scruggs</td>\n",
       "    </tr>\n",
       "    <tr>\n",
       "      <th>312</th>\n",
       "      <td>2020-05-03 22:40:46-03:00</td>\n",
       "      <td>0 days 01:44:28</td>\n",
       "      <td>Brilho Eterno de uma Mente sem Lembranças</td>\n",
       "    </tr>\n",
       "  </tbody>\n",
       "</table>\n",
       "</div>"
      ],
      "text/plain": [
       "                   Start Time        Duration  \\\n",
       "270 2020-06-01 22:10:09-03:00 0 days 02:43:01   \n",
       "297 2020-05-07 19:40:29-03:00 0 days 02:33:17   \n",
       "61  2020-10-18 17:03:21-03:00 0 days 02:25:26   \n",
       "315 2020-05-03 16:20:00-03:00 0 days 02:24:52   \n",
       "96  2020-09-21 22:16:25-03:00 0 days 02:13:24   \n",
       "273 2020-05-30 23:47:24-03:00 0 days 02:10:47   \n",
       "10  2020-11-15 22:58:21-03:00 0 days 01:51:09   \n",
       "90  2020-10-04 22:08:35-03:00 0 days 01:49:25   \n",
       "239 2020-06-18 23:06:32-03:00 0 days 01:48:17   \n",
       "312 2020-05-03 22:40:46-03:00 0 days 01:44:28   \n",
       "\n",
       "                                                Title  \n",
       "270                         O Resgate do Soldado Ryan  \n",
       "297  Millennium: Os Homens que Não Amavam as Mulheres  \n",
       "61                                            Cassino  \n",
       "315                                   Garota Exemplar  \n",
       "96                                O Diabo de Cada Dia  \n",
       "273                                Até o Último Homem  \n",
       "10                          Kick-Ass – Quebrando tudo  \n",
       "90                                  Blade Runner 2049  \n",
       "239                      The Ballad of Buster Scruggs  \n",
       "312         Brilho Eterno de uma Mente sem Lembranças  "
      ]
     },
     "execution_count": 16,
     "metadata": {},
     "output_type": "execute_result"
    }
   ],
   "source": [
    "filmes.head(10)"
   ]
  },
  {
   "cell_type": "markdown",
   "id": "surrounded-biology",
   "metadata": {},
   "source": [
    "## Agora sobre as séries mais assistidas, quero saber quando e quantas horas passei assistindo...\n",
    "Na conta antiga eu sei que meu record era Breaking Bad que eu assisti e reassisti multiplas vezes, porém como essa é uma conta nova, a ultima série que eu maratonei foi Peaky Blinders, então vou analisar a quantidade total assistida dessa série:"
   ]
  },
  {
   "cell_type": "code",
   "execution_count": 17,
   "id": "subtle-arbitration",
   "metadata": {},
   "outputs": [
    {
     "data": {
      "text/plain": [
       "Timedelta('1 days 03:25:41')"
      ]
     },
     "execution_count": 17,
     "metadata": {},
     "output_type": "execute_result"
    }
   ],
   "source": [
    "# Criando um novo dataframe com apenas as linhas contendo o Título Peaky Blinders\n",
    "peaky = will[will['Title'].str.contains('Peaky Blinders', regex=False)]\n",
    "peaky['Duration'].sum()"
   ]
  },
  {
   "cell_type": "markdown",
   "id": "united-lebanon",
   "metadata": {},
   "source": [
    "## A quantidade total assistida foi 1 dia, 3 horas, 25 minutos e 41 segundos (eu esperava mais haha)"
   ]
  },
  {
   "cell_type": "markdown",
   "id": "biological-twins",
   "metadata": {},
   "source": [
    "## Mas quero me aprofundar um pouco mais na análise, vamos ver com as séries separadas em temporada e episódio:"
   ]
  },
  {
   "cell_type": "code",
   "execution_count": 18,
   "id": "surprised-dominican",
   "metadata": {},
   "outputs": [
    {
     "data": {
      "text/html": [
       "<div>\n",
       "<style scoped>\n",
       "    .dataframe tbody tr th:only-of-type {\n",
       "        vertical-align: middle;\n",
       "    }\n",
       "\n",
       "    .dataframe tbody tr th {\n",
       "        vertical-align: top;\n",
       "    }\n",
       "\n",
       "    .dataframe thead th {\n",
       "        text-align: right;\n",
       "    }\n",
       "</style>\n",
       "<table border=\"1\" class=\"dataframe\">\n",
       "  <thead>\n",
       "    <tr style=\"text-align: right;\">\n",
       "      <th></th>\n",
       "      <th>Start Time</th>\n",
       "      <th>Duration</th>\n",
       "      <th>Title_name</th>\n",
       "      <th>Season</th>\n",
       "      <th>Episode</th>\n",
       "    </tr>\n",
       "  </thead>\n",
       "  <tbody>\n",
       "    <tr>\n",
       "      <th>3</th>\n",
       "      <td>2020-11-20 21:14:36-03:00</td>\n",
       "      <td>0 days 01:32:51</td>\n",
       "      <td>Os indomáveis</td>\n",
       "      <td>None</td>\n",
       "      <td>None</td>\n",
       "    </tr>\n",
       "    <tr>\n",
       "      <th>7</th>\n",
       "      <td>2020-11-19 22:39:00-03:00</td>\n",
       "      <td>0 days 01:43:14</td>\n",
       "      <td>As Branquelas</td>\n",
       "      <td>None</td>\n",
       "      <td>None</td>\n",
       "    </tr>\n",
       "    <tr>\n",
       "      <th>8</th>\n",
       "      <td>2020-11-19 22:25:04-03:00</td>\n",
       "      <td>0 days 00:07:41</td>\n",
       "      <td>Bastardos Inglórios</td>\n",
       "      <td>None</td>\n",
       "      <td>None</td>\n",
       "    </tr>\n",
       "    <tr>\n",
       "      <th>9</th>\n",
       "      <td>2020-11-17 16:03:29-03:00</td>\n",
       "      <td>0 days 00:35:02</td>\n",
       "      <td>O Aviador</td>\n",
       "      <td>None</td>\n",
       "      <td>None</td>\n",
       "    </tr>\n",
       "    <tr>\n",
       "      <th>10</th>\n",
       "      <td>2020-11-15 22:58:21-03:00</td>\n",
       "      <td>0 days 01:51:09</td>\n",
       "      <td>Kick-Ass – Quebrando tudo</td>\n",
       "      <td>None</td>\n",
       "      <td>None</td>\n",
       "    </tr>\n",
       "  </tbody>\n",
       "</table>\n",
       "</div>"
      ],
      "text/plain": [
       "                  Start Time        Duration                 Title_name  \\\n",
       "3  2020-11-20 21:14:36-03:00 0 days 01:32:51              Os indomáveis   \n",
       "7  2020-11-19 22:39:00-03:00 0 days 01:43:14              As Branquelas   \n",
       "8  2020-11-19 22:25:04-03:00 0 days 00:07:41        Bastardos Inglórios   \n",
       "9  2020-11-17 16:03:29-03:00 0 days 00:35:02                  O Aviador   \n",
       "10 2020-11-15 22:58:21-03:00 0 days 01:51:09  Kick-Ass – Quebrando tudo   \n",
       "\n",
       "   Season Episode  \n",
       "3    None    None  \n",
       "7    None    None  \n",
       "8    None    None  \n",
       "9    None    None  \n",
       "10   None    None  "
      ]
     },
     "execution_count": 18,
     "metadata": {},
     "output_type": "execute_result"
    }
   ],
   "source": [
    "# Copiando os dados e criando uma nova base de dados\n",
    "series = will\n",
    "\n",
    "# Criando novas colunas com temporada e episódio de cada série (vamos deixar em inglês para seguir em concordância com o original)\n",
    "series[['Title_name', 'Season', 'Episode']] = series['Title'].str.split(':', n=2, expand=True)\n",
    "\n",
    "# Excluindo a coluna Título\n",
    "series.drop('Title', axis=1, inplace=True)\n",
    "series.head()"
   ]
  },
  {
   "cell_type": "markdown",
   "id": "accepted-onion",
   "metadata": {},
   "source": [
    "## Notamos que os filmes estão aparecendo também, mas queremos apenas as séries"
   ]
  },
  {
   "cell_type": "code",
   "execution_count": 19,
   "id": "incorporate-valve",
   "metadata": {},
   "outputs": [
    {
     "data": {
      "text/html": [
       "<div>\n",
       "<style scoped>\n",
       "    .dataframe tbody tr th:only-of-type {\n",
       "        vertical-align: middle;\n",
       "    }\n",
       "\n",
       "    .dataframe tbody tr th {\n",
       "        vertical-align: top;\n",
       "    }\n",
       "\n",
       "    .dataframe thead th {\n",
       "        text-align: right;\n",
       "    }\n",
       "</style>\n",
       "<table border=\"1\" class=\"dataframe\">\n",
       "  <thead>\n",
       "    <tr style=\"text-align: right;\">\n",
       "      <th></th>\n",
       "      <th>Start Time</th>\n",
       "      <th>Duration</th>\n",
       "      <th>Title_name</th>\n",
       "      <th>Season</th>\n",
       "      <th>Episode</th>\n",
       "    </tr>\n",
       "  </thead>\n",
       "  <tbody>\n",
       "    <tr>\n",
       "      <th>16</th>\n",
       "      <td>2020-11-11 23:07:00-03:00</td>\n",
       "      <td>0 days 00:34:26</td>\n",
       "      <td>O Sangue de Zeus</td>\n",
       "      <td>Temporada 1</td>\n",
       "      <td>Guerra pelo Olimpo (Episódio 8)</td>\n",
       "    </tr>\n",
       "    <tr>\n",
       "      <th>17</th>\n",
       "      <td>2020-11-11 22:48:06-03:00</td>\n",
       "      <td>0 days 00:13:32</td>\n",
       "      <td>O Sangue de Zeus</td>\n",
       "      <td>Temporada 1</td>\n",
       "      <td>Território dos mortos (Episódio 7)</td>\n",
       "    </tr>\n",
       "    <tr>\n",
       "      <th>18</th>\n",
       "      <td>2020-11-10 00:57:11-03:00</td>\n",
       "      <td>0 days 00:17:40</td>\n",
       "      <td>O Sangue de Zeus</td>\n",
       "      <td>Temporada 1</td>\n",
       "      <td>Território dos mortos (Episódio 7)</td>\n",
       "    </tr>\n",
       "    <tr>\n",
       "      <th>19</th>\n",
       "      <td>2020-11-10 00:21:36-03:00</td>\n",
       "      <td>0 days 00:29:38</td>\n",
       "      <td>O Sangue de Zeus</td>\n",
       "      <td>Temporada 1</td>\n",
       "      <td>De volta ao Olimpo (Episódio 6)</td>\n",
       "    </tr>\n",
       "    <tr>\n",
       "      <th>21</th>\n",
       "      <td>2020-11-08 00:05:42-03:00</td>\n",
       "      <td>0 days 00:23:07</td>\n",
       "      <td>O Sangue de Zeus</td>\n",
       "      <td>Temporada 1</td>\n",
       "      <td>Fugir ou morrer (Episódio 5)</td>\n",
       "    </tr>\n",
       "    <tr>\n",
       "      <th>...</th>\n",
       "      <td>...</td>\n",
       "      <td>...</td>\n",
       "      <td>...</td>\n",
       "      <td>...</td>\n",
       "      <td>...</td>\n",
       "    </tr>\n",
       "    <tr>\n",
       "      <th>413</th>\n",
       "      <td>2020-04-03 01:07:42-03:00</td>\n",
       "      <td>0 days 00:53:31</td>\n",
       "      <td>Peaky Blinders</td>\n",
       "      <td>Sangue, Apostas e Navalhas</td>\n",
       "      <td>Temporada 1: Episódio 6 (Episódio 6)</td>\n",
       "    </tr>\n",
       "    <tr>\n",
       "      <th>414</th>\n",
       "      <td>2020-04-02 23:48:41-03:00</td>\n",
       "      <td>0 days 00:55:54</td>\n",
       "      <td>Peaky Blinders</td>\n",
       "      <td>Sangue, Apostas e Navalhas</td>\n",
       "      <td>Temporada 1: Episódio 5 (Episódio 5)</td>\n",
       "    </tr>\n",
       "    <tr>\n",
       "      <th>415</th>\n",
       "      <td>2020-04-02 22:35:19-03:00</td>\n",
       "      <td>0 days 00:57:54</td>\n",
       "      <td>Peaky Blinders</td>\n",
       "      <td>Sangue, Apostas e Navalhas</td>\n",
       "      <td>Temporada 1: Episódio 4 (Episódio 4)</td>\n",
       "    </tr>\n",
       "    <tr>\n",
       "      <th>416</th>\n",
       "      <td>2020-04-02 00:13:01-03:00</td>\n",
       "      <td>0 days 00:54:25</td>\n",
       "      <td>Peaky Blinders</td>\n",
       "      <td>Sangue, Apostas e Navalhas</td>\n",
       "      <td>Temporada 1: Episódio 3 (Episódio 3)</td>\n",
       "    </tr>\n",
       "    <tr>\n",
       "      <th>417</th>\n",
       "      <td>2020-04-01 23:11:18-03:00</td>\n",
       "      <td>0 days 00:57:38</td>\n",
       "      <td>Peaky Blinders</td>\n",
       "      <td>Sangue, Apostas e Navalhas</td>\n",
       "      <td>Temporada 1: Episódio 2 (Episódio 2)</td>\n",
       "    </tr>\n",
       "  </tbody>\n",
       "</table>\n",
       "<p>150 rows × 5 columns</p>\n",
       "</div>"
      ],
      "text/plain": [
       "                   Start Time        Duration        Title_name  \\\n",
       "16  2020-11-11 23:07:00-03:00 0 days 00:34:26  O Sangue de Zeus   \n",
       "17  2020-11-11 22:48:06-03:00 0 days 00:13:32  O Sangue de Zeus   \n",
       "18  2020-11-10 00:57:11-03:00 0 days 00:17:40  O Sangue de Zeus   \n",
       "19  2020-11-10 00:21:36-03:00 0 days 00:29:38  O Sangue de Zeus   \n",
       "21  2020-11-08 00:05:42-03:00 0 days 00:23:07  O Sangue de Zeus   \n",
       "..                        ...             ...               ...   \n",
       "413 2020-04-03 01:07:42-03:00 0 days 00:53:31    Peaky Blinders   \n",
       "414 2020-04-02 23:48:41-03:00 0 days 00:55:54    Peaky Blinders   \n",
       "415 2020-04-02 22:35:19-03:00 0 days 00:57:54    Peaky Blinders   \n",
       "416 2020-04-02 00:13:01-03:00 0 days 00:54:25    Peaky Blinders   \n",
       "417 2020-04-01 23:11:18-03:00 0 days 00:57:38    Peaky Blinders   \n",
       "\n",
       "                          Season                                Episode  \n",
       "16                   Temporada 1        Guerra pelo Olimpo (Episódio 8)  \n",
       "17                   Temporada 1     Território dos mortos (Episódio 7)  \n",
       "18                   Temporada 1     Território dos mortos (Episódio 7)  \n",
       "19                   Temporada 1        De volta ao Olimpo (Episódio 6)  \n",
       "21                   Temporada 1           Fugir ou morrer (Episódio 5)  \n",
       "..                           ...                                    ...  \n",
       "413   Sangue, Apostas e Navalhas   Temporada 1: Episódio 6 (Episódio 6)  \n",
       "414   Sangue, Apostas e Navalhas   Temporada 1: Episódio 5 (Episódio 5)  \n",
       "415   Sangue, Apostas e Navalhas   Temporada 1: Episódio 4 (Episódio 4)  \n",
       "416   Sangue, Apostas e Navalhas   Temporada 1: Episódio 3 (Episódio 3)  \n",
       "417   Sangue, Apostas e Navalhas   Temporada 1: Episódio 2 (Episódio 2)  \n",
       "\n",
       "[150 rows x 5 columns]"
      ]
     },
     "execution_count": 19,
     "metadata": {},
     "output_type": "execute_result"
    }
   ],
   "source": [
    "# Vamos excluir os títulos que não possuem Season nem Episode, para filtrar apenas as séries\n",
    "series.dropna()"
   ]
  },
  {
   "cell_type": "markdown",
   "id": "brazilian-logan",
   "metadata": {},
   "source": [
    "## Pronto, agora vou expandir a coluna StartTime para dias da semana e horas do dia (a semana começa em 0=Segunda e vai até 6=Domingo):"
   ]
  },
  {
   "cell_type": "code",
   "execution_count": 20,
   "id": "middle-causing",
   "metadata": {},
   "outputs": [
    {
     "data": {
      "text/html": [
       "<div>\n",
       "<style scoped>\n",
       "    .dataframe tbody tr th:only-of-type {\n",
       "        vertical-align: middle;\n",
       "    }\n",
       "\n",
       "    .dataframe tbody tr th {\n",
       "        vertical-align: top;\n",
       "    }\n",
       "\n",
       "    .dataframe thead th {\n",
       "        text-align: right;\n",
       "    }\n",
       "</style>\n",
       "<table border=\"1\" class=\"dataframe\">\n",
       "  <thead>\n",
       "    <tr style=\"text-align: right;\">\n",
       "      <th></th>\n",
       "      <th>Start Time</th>\n",
       "      <th>Duration</th>\n",
       "      <th>Title_name</th>\n",
       "      <th>Season</th>\n",
       "      <th>Episode</th>\n",
       "      <th>Weekday</th>\n",
       "      <th>Hour</th>\n",
       "    </tr>\n",
       "  </thead>\n",
       "  <tbody>\n",
       "    <tr>\n",
       "      <th>3</th>\n",
       "      <td>2020-11-20 21:14:36-03:00</td>\n",
       "      <td>0 days 01:32:51</td>\n",
       "      <td>Os indomáveis</td>\n",
       "      <td>None</td>\n",
       "      <td>None</td>\n",
       "      <td>4</td>\n",
       "      <td>21</td>\n",
       "    </tr>\n",
       "    <tr>\n",
       "      <th>7</th>\n",
       "      <td>2020-11-19 22:39:00-03:00</td>\n",
       "      <td>0 days 01:43:14</td>\n",
       "      <td>As Branquelas</td>\n",
       "      <td>None</td>\n",
       "      <td>None</td>\n",
       "      <td>3</td>\n",
       "      <td>22</td>\n",
       "    </tr>\n",
       "    <tr>\n",
       "      <th>8</th>\n",
       "      <td>2020-11-19 22:25:04-03:00</td>\n",
       "      <td>0 days 00:07:41</td>\n",
       "      <td>Bastardos Inglórios</td>\n",
       "      <td>None</td>\n",
       "      <td>None</td>\n",
       "      <td>3</td>\n",
       "      <td>22</td>\n",
       "    </tr>\n",
       "    <tr>\n",
       "      <th>9</th>\n",
       "      <td>2020-11-17 16:03:29-03:00</td>\n",
       "      <td>0 days 00:35:02</td>\n",
       "      <td>O Aviador</td>\n",
       "      <td>None</td>\n",
       "      <td>None</td>\n",
       "      <td>1</td>\n",
       "      <td>16</td>\n",
       "    </tr>\n",
       "    <tr>\n",
       "      <th>10</th>\n",
       "      <td>2020-11-15 22:58:21-03:00</td>\n",
       "      <td>0 days 01:51:09</td>\n",
       "      <td>Kick-Ass – Quebrando tudo</td>\n",
       "      <td>None</td>\n",
       "      <td>None</td>\n",
       "      <td>6</td>\n",
       "      <td>22</td>\n",
       "    </tr>\n",
       "  </tbody>\n",
       "</table>\n",
       "</div>"
      ],
      "text/plain": [
       "                  Start Time        Duration                 Title_name  \\\n",
       "3  2020-11-20 21:14:36-03:00 0 days 01:32:51              Os indomáveis   \n",
       "7  2020-11-19 22:39:00-03:00 0 days 01:43:14              As Branquelas   \n",
       "8  2020-11-19 22:25:04-03:00 0 days 00:07:41        Bastardos Inglórios   \n",
       "9  2020-11-17 16:03:29-03:00 0 days 00:35:02                  O Aviador   \n",
       "10 2020-11-15 22:58:21-03:00 0 days 01:51:09  Kick-Ass – Quebrando tudo   \n",
       "\n",
       "   Season Episode  Weekday  Hour  \n",
       "3    None    None        4    21  \n",
       "7    None    None        3    22  \n",
       "8    None    None        3    22  \n",
       "9    None    None        1    16  \n",
       "10   None    None        6    22  "
      ]
     },
     "execution_count": 20,
     "metadata": {},
     "output_type": "execute_result"
    }
   ],
   "source": [
    "# Criando novas colunas usando o datetime\n",
    "series['Weekday'] = series['Start Time'].dt.weekday\n",
    "series['Hour'] = series['Start Time'].dt.hour\n",
    "\n",
    "series.head()"
   ]
  },
  {
   "cell_type": "markdown",
   "id": "every-convergence",
   "metadata": {},
   "source": [
    "## Vamos ver quantas vezes foi dado play em cada série:"
   ]
  },
  {
   "cell_type": "code",
   "execution_count": 21,
   "id": "heated-clarity",
   "metadata": {},
   "outputs": [
    {
     "data": {
      "text/plain": [
       "Peaky Blinders                                 32\n",
       "Baki - O Campeão                               16\n",
       "Narcos                                         14\n",
       "Rick and Morty                                 12\n",
       "Grandes Momentos da Segunda Guerra em Cores     9\n",
       "Name: Title_name, dtype: int64"
      ]
     },
     "execution_count": 21,
     "metadata": {},
     "output_type": "execute_result"
    }
   ],
   "source": [
    "series['Title_name'].value_counts().head()"
   ]
  },
  {
   "cell_type": "markdown",
   "id": "accredited-trash",
   "metadata": {},
   "source": [
    "## Agora um top 10 séries mais assistidas:"
   ]
  },
  {
   "cell_type": "code",
   "execution_count": 22,
   "id": "narrative-moment",
   "metadata": {},
   "outputs": [
    {
     "data": {
      "text/html": [
       "<div>\n",
       "<style scoped>\n",
       "    .dataframe tbody tr th:only-of-type {\n",
       "        vertical-align: middle;\n",
       "    }\n",
       "\n",
       "    .dataframe tbody tr th {\n",
       "        vertical-align: top;\n",
       "    }\n",
       "\n",
       "    .dataframe thead th {\n",
       "        text-align: right;\n",
       "    }\n",
       "</style>\n",
       "<table border=\"1\" class=\"dataframe\">\n",
       "  <thead>\n",
       "    <tr style=\"text-align: right;\">\n",
       "      <th></th>\n",
       "      <th>Duration</th>\n",
       "    </tr>\n",
       "    <tr>\n",
       "      <th>Title_name</th>\n",
       "      <th></th>\n",
       "    </tr>\n",
       "  </thead>\n",
       "  <tbody>\n",
       "    <tr>\n",
       "      <th>Peaky Blinders</th>\n",
       "      <td>1 days 03:25:41</td>\n",
       "    </tr>\n",
       "    <tr>\n",
       "      <th>Narcos</th>\n",
       "      <td>0 days 09:16:24</td>\n",
       "    </tr>\n",
       "    <tr>\n",
       "      <th>Better Call Saul</th>\n",
       "      <td>0 days 05:21:21</td>\n",
       "    </tr>\n",
       "    <tr>\n",
       "      <th>Vikings</th>\n",
       "      <td>0 days 05:16:30</td>\n",
       "    </tr>\n",
       "    <tr>\n",
       "      <th>Grandes Momentos da Segunda Guerra em Cores</th>\n",
       "      <td>0 days 04:29:38</td>\n",
       "    </tr>\n",
       "    <tr>\n",
       "      <th>Sherlock</th>\n",
       "      <td>0 days 04:22:05</td>\n",
       "    </tr>\n",
       "    <tr>\n",
       "      <th>Bárbaros</th>\n",
       "      <td>0 days 04:09:32</td>\n",
       "    </tr>\n",
       "    <tr>\n",
       "      <th>Como vender drogas online (rápido)</th>\n",
       "      <td>0 days 03:52:36</td>\n",
       "    </tr>\n",
       "    <tr>\n",
       "      <th>Rick and Morty</th>\n",
       "      <td>0 days 03:51:16</td>\n",
       "    </tr>\n",
       "    <tr>\n",
       "      <th>O Sangue de Zeus</th>\n",
       "      <td>0 days 03:43:45</td>\n",
       "    </tr>\n",
       "  </tbody>\n",
       "</table>\n",
       "</div>"
      ],
      "text/plain": [
       "                                                   Duration\n",
       "Title_name                                                 \n",
       "Peaky Blinders                              1 days 03:25:41\n",
       "Narcos                                      0 days 09:16:24\n",
       "Better Call Saul                            0 days 05:21:21\n",
       "Vikings                                     0 days 05:16:30\n",
       "Grandes Momentos da Segunda Guerra em Cores 0 days 04:29:38\n",
       "Sherlock                                    0 days 04:22:05\n",
       "Bárbaros                                    0 days 04:09:32\n",
       "Como vender drogas online (rápido)          0 days 03:52:36\n",
       "Rick and Morty                              0 days 03:51:16\n",
       "O Sangue de Zeus                            0 days 03:43:45"
      ]
     },
     "execution_count": 22,
     "metadata": {},
     "output_type": "execute_result"
    }
   ],
   "source": [
    "# Mapeando as séries de acordo com sua duração máxima\n",
    "series.groupby(['Title_name']).agg({'Duration':'sum'}).sort_values(by='Duration', ascending=False).head(10)"
   ]
  },
  {
   "cell_type": "markdown",
   "id": "pursuant-moldova",
   "metadata": {},
   "source": [
    "## Poderia filtrar por episódio/temporada mais assistido(a), porém não tenho costume de assistir mais de uma vez...\n",
    "\n",
    "## Vamos ver quais dias da semana eu mais assisto séries:"
   ]
  },
  {
   "cell_type": "code",
   "execution_count": 47,
   "id": "elect-december",
   "metadata": {},
   "outputs": [
    {
     "data": {
      "image/png": "[encoded data removed]",
      "text/plain": [
       "<Figure size 1080x576 with 1 Axes>"
      ]
     },
     "metadata": {},
     "output_type": "display_data"
    }
   ],
   "source": [
    "# Definindo a ordem de dias da semana Segunda-Domingo\n",
    "series['Weekday'] = pd.Categorical(series['Weekday'], categories=[0,1,2,3,4,5,6], ordered=True)\n",
    "\n",
    "# Criando uma variável e guardando a quantidade\n",
    "series_por_dia = series['Weekday'].value_counts()\n",
    "\n",
    "# Ordenando os dias da semana pelo indice (Segunda=0 até Domingo=6)\n",
    "series_por_dia = series_por_dia.sort_index()\n",
    "\n",
    "# Plotando no gráfico\n",
    "plt.style.use(\"dark_background\")\n",
    "plt.title('Quais dias assisto mais episódios', fontsize=20)\n",
    "plt.xlabel('Dias da semana', fontsize=14)\n",
    "plt.ylabel('Quantidade', fontsize=14)\n",
    "\n",
    "series_por_dia.plot(kind='bar', figsize=(15, 8))\n",
    "\n",
    "fig1 = plt.gcf()\n",
    "fig1.savefig('Analise_netflix.png')\n",
    "plt.show()"
   ]
  },
  {
   "cell_type": "markdown",
   "id": "forbidden-rapid",
   "metadata": {},
   "source": [
    "## Como imaginado, aos finais de semana são quando eu maratono minhas séries hehe\n",
    "\n",
    "## Agora vamos ver qual a hora do dia que eu costumo assistir:"
   ]
  },
  {
   "cell_type": "code",
   "execution_count": 46,
   "id": "moving-national",
   "metadata": {},
   "outputs": [
    {
     "data": {
      "text/plain": [
       "<AxesSubplot:title={'center':'Quais horários assisto mais episódios'}, xlabel='Horas do dia', ylabel='Quantidade'>"
      ]
     },
     "execution_count": 46,
     "metadata": {},
     "output_type": "execute_result"
    },
    {
     "data": {
      "image/png": "[encoded data removed]",
      "text/plain": [
       "<Figure size 1080x576 with 1 Axes>"
      ]
     },
     "metadata": {},
     "output_type": "display_data"
    }
   ],
   "source": [
    "# Ordenando os horários de 0 até 23 horas\n",
    "series['Hour'] = pd.Categorical(series['Hour'], categories= [0,1,2,3,4,5,6,7,8,9,10,11,12,13,14,15,16,17,18,19,20,21,22,23], ordered=True)\n",
    "\n",
    "# Criando uma variável e guardando a quantidade\n",
    "series_por_hora = series['Hour'].value_counts()\n",
    "\n",
    "# Ordenando o índice começando por meia-noite(0) e assim por diante\n",
    "series_por_hora = series_por_hora.sort_index()\n",
    "\n",
    "# Plotando no gráfico\n",
    "plt.title('Quais horários assisto mais episódios', fontsize=20)\n",
    "plt.xlabel('Horas do dia', fontsize=14)\n",
    "plt.ylabel('Quantidade', fontsize=14)\n",
    "series_por_hora.plot(kind='bar', figsize=(15, 8))"
   ]
  },
  {
   "cell_type": "markdown",
   "id": "fancy-button",
   "metadata": {},
   "source": [
    "## E por fim, os horários que eu mais assisto é entre 20:00 e 01:00"
   ]
  },
  {
   "cell_type": "code",
   "execution_count": null,
   "id": "maritime-poland",
   "metadata": {},
   "outputs": [],
   "source": []
  }
 ],
 "metadata": {
  "kernelspec": {
   "display_name": "Python 3",
   "language": "python",
   "name": "python3"
  },
  "language_info": {
   "codemirror_mode": {
    "name": "ipython",
    "version": 3
   },
   "file_extension": ".py",
   "mimetype": "text/x-python",
   "name": "python",
   "nbconvert_exporter": "python",
   "pygments_lexer": "ipython3",
   "version": "3.9.2"
  }
 },
 "nbformat": 4,
 "nbformat_minor": 5
}
